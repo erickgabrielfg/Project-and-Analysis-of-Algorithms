{
  "cells": [
    {
      "cell_type": "markdown",
      "metadata": {
        "id": "ysE67Vbdpu8W"
      },
      "source": [
        "# Análise dos Algoritmos de Fleury e Hierholzer\n",
        "\n",
        "### Higor da Silva Camelo, Erick Gabriel Ferreira Gaspar, Pedro Henrique Santos Moreira\n"
      ]
    },
    {
      "cell_type": "markdown",
      "metadata": {
        "id": "03uKmpn8rqHF"
      },
      "source": [
        "---\n",
        "## Sumário\n",
        "\n",
        "- Introdução\n",
        "- Implementação dos Algoritmos\n",
        "  - Algoritmo de Fleury\n",
        "  - Algoritmo de Hierholzer\n",
        "  - Funções para teste\n",
        "    - make_random_graph\n",
        "    - execute_with_timer\n",
        "    - test_alg\n",
        "- Execução dos Algoritmos\n",
        "  - Fleury\n",
        "  - Hierholzer\n",
        "- Diferença Percentual\n",
        "  - Base gráfica\n",
        "  - Cálculos de diferença relativa - Algoritmo de Fleury\n",
        "  - Cálculos de diferença relativa - Algoritmo de Hierholzer\n",
        "- Conclusão"
      ]
    },
    {
      "cell_type": "markdown",
      "metadata": {
        "id": "NCqq7UektCP-"
      },
      "source": [
        "---\n",
        "## Introdução\n",
        "\n",
        "Nesse notebook, iremos analisar a performance de dois algoritmos de busca de ciclos Eulerianos. Mostraremos as implementações, funções auxiliares para testes e o cálculo da diferença relativa de cada um. No fim, concluiremos qual deles é o melhor algoritmo."
      ]
    },
    {
      "cell_type": "markdown",
      "metadata": {
        "id": "77ZsGfx7vcCm"
      },
      "source": [
        "---\n",
        "## Implementação dos Algoritmos\n",
        "\n",
        "Primeiro, vamos importar as seguintes bibliotecas para a utilizarmos em nossos códigos.\n",
        "\n"
      ]
    },
    {
      "cell_type": "code",
      "execution_count": null,
      "metadata": {
        "id": "RTZB7NHb3RTB"
      },
      "outputs": [],
      "source": [
        "from sklearn.linear_model import LinearRegression\n",
        "import numpy as np\n",
        "import matplotlib.pyplot as plt\n",
        "import statsmodels.api as sm\n",
        "import math\n",
        "import time\n",
        "import random\n",
        "import sys\n"
      ]
    },
    {
      "cell_type": "markdown",
      "metadata": {
        "id": "U4DeYJX336b3"
      },
      "source": [
        "Agora, vamos definir as implementações para o algoritmo de Fluery e Hierholzer."
      ]
    },
    {
      "cell_type": "markdown",
      "metadata": {
        "id": "GBPFyIDW4Tph"
      },
      "source": [
        "---\n",
        "### Fleury"
      ]
    },
    {
      "cell_type": "code",
      "execution_count": null,
      "metadata": {
        "id": "mEjRCVyS4gFF"
      },
      "outputs": [],
      "source": [
        "# Função que verifica se a aresta u-v é uma ponte\n",
        "def eh_ponte(G, u, v):\n",
        "    # Remove a aresta u-v temporariamente\n",
        "    G[u].remove(v)\n",
        "    G[v].remove(u)\n",
        "\n",
        "    # Vetor de visitados para a busca em profundidade (DFS)\n",
        "    visitados = [False] * len(G)\n",
        "\n",
        "    # Função interna de DFS (busca em profundidade)\n",
        "    def dfs(v):\n",
        "        visitados[v] = True\n",
        "        # Percorre todos os vértices adjacentes de v\n",
        "        for w in G[v]:\n",
        "            if not visitados[w]:\n",
        "                dfs(w)\n",
        "\n",
        "    # Inicia a DFS a partir de u para verificar conectividade\n",
        "    dfs(u)\n",
        "\n",
        "    # Recoloca a aresta u-v (desfazendo a remoção temporária)\n",
        "    G[u].append(v)\n",
        "    G[v].append(u)\n",
        "\n",
        "    # Se v não foi visitado, a aresta u-v era uma ponte (sua remoção desconecta o grafo)\n",
        "    return not visitados[v]\n",
        "\n",
        "# Função que implementa o algoritmo de Fleury para encontrar o ciclo Euleriano\n",
        "def fleury(G, u):\n",
        "    # Contagem total de arestas no grafo (somatório de todas as listas de adjacência dividido por 2)\n",
        "    arestas = sum(len(v) for v in G.values()) // 2\n",
        "\n",
        "    # Inicia o ciclo com o vértice u\n",
        "    C = [u]\n",
        "\n",
        "    # Enquanto houver arestas não percorridas\n",
        "    while arestas > 0:\n",
        "        # Percorre todos os vértices adjacentes a u\n",
        "        for v in G[u][:]:\n",
        "            # Verifica se a aresta u-v é uma ponte (evitando-a, se possível)\n",
        "            if len(G[u]) > 1 and eh_ponte(G, u, v):\n",
        "                continue  # Se for uma ponte e há outras opções, ignora esta aresta\n",
        "\n",
        "            # Remove a aresta u-v do grafo (como parte do caminho)\n",
        "            G[u].remove(v)\n",
        "            G[v].remove(u)\n",
        "\n",
        "            # Adiciona o próximo vértice v ao ciclo Euleriano\n",
        "            C.append(v)\n",
        "\n",
        "            # Move o vértice u para v e continua o ciclo\n",
        "            u = v\n",
        "\n",
        "            # Diminui a contagem de arestas, já que percorremos uma\n",
        "            arestas -= 1\n",
        "\n",
        "            # Quebra o loop assim que uma aresta válida é encontrada\n",
        "            break\n",
        "\n",
        "    # Retorna o ciclo Euleriano encontrado\n",
        "    return C"
      ]
    },
    {
      "cell_type": "markdown",
      "metadata": {
        "id": "48DbElwN4kCf"
      },
      "source": [
        "O algorimto consiste na busca de um ciclo Euleriano partindo de um ponto inicial do grafo, passando por todas as suas arestas apenas uma vez e retornando para o início. Ele se baseia na lógica de não \"queimar\" pontes quando possível, as quais são arestas cuja a remoção implica na desconexão do grafo. Iremos remover cada aresta atravessada, o que nos impede de passarmos por ela novamente.\n"
      ]
    },
    {
      "cell_type": "markdown",
      "metadata": {
        "id": "vYbtWIvB5O0j"
      },
      "source": [
        "---\n",
        "### Hierholzer"
      ]
    },
    {
      "cell_type": "code",
      "execution_count": null,
      "metadata": {
        "id": "8WeEFcM15XIY"
      },
      "outputs": [],
      "source": [
        "# Função que implementa o algoritmo de Hierholzer para encontrar um ciclo Euleriano\n",
        "def hierholzer(graph, start_vertex):\n",
        "    # Calcula o grau de cada vértice (quantidade de arestas conectadas a ele)\n",
        "    degree = {vertex: len(neighbors) for vertex, neighbors in graph.items()}\n",
        "\n",
        "    # Pilha usada para construir o ciclo. Começa no vértice inicial (start_vertex)\n",
        "    stack = [start_vertex]\n",
        "\n",
        "    # Lista que vai armazenar o ciclo Euleriano final\n",
        "    cycle = []\n",
        "\n",
        "    # Enquanto a pilha não estiver vazia\n",
        "    while stack:\n",
        "        # Pega o vértice no topo da pilha, mas não o remove\n",
        "        u = stack[-1]\n",
        "\n",
        "        # Se o vértice ainda tiver arestas não percorridas (grau maior que 0)\n",
        "        if degree[u] > 0:\n",
        "            # Remove uma das arestas (u, v) de u\n",
        "            v = graph[u].pop()\n",
        "\n",
        "            # Também remove a aresta (v, u) de v (grafo não direcionado)\n",
        "            graph[v].remove(u)\n",
        "\n",
        "            # Atualiza os graus de u e v (já que uma aresta foi removida)\n",
        "            degree[u] -= 1\n",
        "            degree[v] -= 1\n",
        "\n",
        "            # Adiciona o vértice v à pilha (continua o caminho a partir de v)\n",
        "            stack.append(v)\n",
        "        else:\n",
        "            # Se não há mais arestas não percorridas de u, adiciona u ao ciclo\n",
        "            # e remove u da pilha (retrocede no caminho)\n",
        "            cycle.append(stack.pop())\n",
        "\n",
        "    # O ciclo Euleriano foi construído em ordem reversa, então invertemos para obter a ordem correta\n",
        "    return cycle[::-1]\n"
      ]
    },
    {
      "cell_type": "markdown",
      "metadata": {
        "id": "cVFxjNNf5gA_"
      },
      "source": [
        "A ideia central do algoritmo é buscar subciclos eulerianos em um grafo a partir de um vértice qualquer e os removendo a medida que são encontrados no mesmo instante que são adicionados no ciclo principal que ao final será o resultado da união dos subciclos."
      ]
    },
    {
      "cell_type": "markdown",
      "metadata": {
        "id": "ekL1Qecz5kEI"
      },
      "source": [
        "---\n",
        "### Funções para teste\n",
        "\n",
        "Aqui definiremos as funções usadas para os testes de performance dos dois algoritmos.\n"
      ]
    },
    {
      "cell_type": "markdown",
      "metadata": {
        "id": "axFG9fffSVDr"
      },
      "source": [
        "#### make_random_graph\n",
        "\n",
        "Essa função tem a responsabilidade de criar novos grafos a fim de iniciarmos nossos testes.\n",
        "\n",
        "- Parâmetros: `tam` representa o número de vértices do grafo a ser criado.\n",
        "- Saída: `adjacencias` representa o nosso grafo recém formado."
      ]
    },
    {
      "cell_type": "code",
      "execution_count": null,
      "metadata": {
        "id": "-fFsDnQ7ZnGE"
      },
      "outputs": [],
      "source": [
        "# Função para gerar um grafo pseudo-aleatório com um número ímpar de vértices\n",
        "def make_random_graph(tam):\n",
        "    # Se o tamanho (número de vértices) for par, torna-o ímpar adicionando 1\n",
        "    if tam % 2 == 0:\n",
        "        tam = tam + 1\n",
        "\n",
        "    # Cria um dicionário para armazenar a lista de adjacências de cada vértice\n",
        "    adjacencias = {i: [] for i in range(tam)}\n",
        "\n",
        "    # Percorre todos os vértices do grafo\n",
        "    for i in range(tam):\n",
        "        # Casos especiais para os vértices nas extremidades do grafo:\n",
        "\n",
        "        if i == 0:\n",
        "            # Vértice 0 se conecta aos vértices 1 e 2\n",
        "            adjacencias[i].extend([1, 2])\n",
        "        elif i == 1:\n",
        "            # Vértice 1 se conecta aos vértices 0 e 2\n",
        "            adjacencias[i].extend([0, 2])\n",
        "        elif i == tam - 2:\n",
        "            # Penúltimo vértice se conecta ao vértice anterior e ao último\n",
        "            adjacencias[i].extend([i - 1, i + 1])\n",
        "        elif i == tam - 1:\n",
        "            # Último vértice se conecta aos dois vértices anteriores\n",
        "            adjacencias[i].extend([i - 1, i - 2])\n",
        "\n",
        "        # Para os demais vértices, que não estão nas extremidades:\n",
        "        else:\n",
        "            # Se o índice do vértice for par\n",
        "            if i % 2 == 0:\n",
        "                # Conecta-se a dois vértices anteriores e dois vértices posteriores\n",
        "                adjacencias[i].extend([i - 2, i - 1, i + 1, i + 2])\n",
        "            # Se o índice do vértice for ímpar\n",
        "            else:\n",
        "                # Conecta-se apenas ao vértice anterior e ao próximo\n",
        "                adjacencias[i].extend([i - 1, i + 1])\n",
        "\n",
        "    # Retorna o dicionário que representa o grafo com as listas de adjacências\n",
        "    return adjacencias\n"
      ]
    },
    {
      "cell_type": "markdown",
      "metadata": {
        "id": "9t3aYW4vZpm7"
      },
      "source": [
        "Utilizamos `{i: [] for i in range(tam)}` para estruturarmos o grafo em uma lista de adjacências, dado que cada vértice é a `key` para um lista de outros vértices. Devemos garantir também que o número de vértices do grafo gerado é ímpar, para não comprometer a formação do ciclo Euleriano."
      ]
    },
    {
      "cell_type": "markdown",
      "metadata": {
        "id": "0_FtfvtUcJkA"
      },
      "source": [
        "#### execute_with_timer\n",
        "\n",
        "Essa função tem a responsabilidade de executar o nosso algoritmo e calcular o tempo de execução.\n",
        "\n",
        "- Parâmetros: `func` representa o algoritmo a ser executado e `timer` o nosso tempo limite de execução.\n",
        "- Saída: `delta`, a diferença entre o tempo de início e o tempo de finalização da execução."
      ]
    },
    {
      "cell_type": "code",
      "execution_count": null,
      "metadata": {
        "id": "x0ONDIF4dPXb"
      },
      "outputs": [],
      "source": [
        "def execute_with_timer(func, timer):\n",
        "    start = time.time()\n",
        "\n",
        "    func()\n",
        "\n",
        "    end = time.time()\n",
        "\n",
        "    delta = end - start\n",
        "\n",
        "    if delta > timer:\n",
        "        return -1\n",
        "\n",
        "    return delta"
      ]
    },
    {
      "cell_type": "markdown",
      "metadata": {
        "id": "K_8zuDM3dWJ8"
      },
      "source": [
        "#### teste_alg\n",
        "\n",
        "Essa função tem a responsabilidade de chamar as outras duas funções e salvar todas as entradas e tempo de execução do algoritmo.\n",
        "\n",
        "- Parâmetros: `alg`, representa o algoritmo a ser executado. `timer`, o nosso tempo limite de execução.\n",
        "- Saída: `input_sizes, execution_times`, representam, respectivamente, a lista de entradas do algoritmo e a lista de tempos de execução do algoritmo."
      ]
    },
    {
      "cell_type": "code",
      "execution_count": null,
      "metadata": {
        "id": "256our8QgLHW"
      },
      "outputs": [],
      "source": [
        "# Função para testar o tempo de execução de um algoritmo com grafos de diferentes tamanhos\n",
        "def teste_alg(alg, timer):\n",
        "    # Tamanho inicial do grafo de entrada\n",
        "    input_size = 2\n",
        "\n",
        "    # Armazena o tempo de execução anterior (começando com None)\n",
        "    last_time: float = None\n",
        "\n",
        "    # Listas para armazenar os tempos de execução e os tamanhos de entrada\n",
        "    execution_times = []\n",
        "    input_sizes = []\n",
        "    tempo_total = 0\n",
        "\n",
        "    # Loop até que o tempo de execução retorne -1 (indicando que ultrapassou o limite)\n",
        "    while last_time == None or last_time != -1:\n",
        "        # Gera um grafo aleatório com o tamanho atual (input_size)\n",
        "        graph = make_random_graph(input_size)\n",
        "\n",
        "        # Cria uma função lambda que executa o algoritmo 'alg' com o grafo gerado, começando no vértice 0\n",
        "        func = lambda: alg(graph, 0)\n",
        "\n",
        "        # Mede o tempo de execução do algoritmo usando o timer fornecido\n",
        "        alg_execution_time = execute_with_timer(func, timer)\n",
        "\n",
        "        # Se o tempo de execução for válido (diferente de -1, que indica que o tempo foi muito alto)\n",
        "        if alg_execution_time != -1:\n",
        "            # Adiciona o tempo de execução à lista\n",
        "            execution_times.append(alg_execution_time)\n",
        "            # Adiciona o tamanho da entrada correspondente à lista\n",
        "            input_sizes.append(input_size)\n",
        "\n",
        "            tempo_total += alg_execution_time\n",
        "\n",
        "            print(f\"Input size: {input_size}, execution time: {alg_execution_time:.6f} segundos\")\n",
        "\n",
        "        # Atualiza a variável 'last_time' com o tempo de execução atual\n",
        "        last_time = alg_execution_time\n",
        "\n",
        "        # Dobra o tamanho de entrada para o próximo teste\n",
        "        input_size *= 2\n",
        "\n",
        "    # Retorna as listas de tamanhos de entrada e tempos de execução\n",
        "    return input_sizes, execution_times\n"
      ]
    },
    {
      "cell_type": "markdown",
      "metadata": {
        "id": "8vGv-Phxgy5n"
      },
      "source": [
        "Iremos utilizar o método \"razão dobrando\" para a obtenção de entradas, visto que nosso algoritmo é polinomial. Dito isso, a cada fim de execução, dobraremos o valor de `input_size` para assim criar o próximo grafo na sequência. Por fim, quando `timer`for igual a -1, também definida na função anterior, significa que o tempo de execução com a entrada atual excede o nosso tempo limite, obrigando o fim da execução."
      ]
    },
    {
      "cell_type": "markdown",
      "metadata": {
        "id": "brQ-30Q-vjny"
      },
      "source": [
        "---\n",
        "## Execução dos Algoritmos\n",
        "\n",
        "Nesta seção, vamos executar os dois algoritmos."
      ]
    },
    {
      "cell_type": "markdown",
      "source": [
        "---\n",
        "### Algoritmo de Fleury"
      ],
      "metadata": {
        "id": "lwZb3jB7oA2p"
      }
    },
    {
      "cell_type": "markdown",
      "metadata": {
        "id": "yvPSHCnKkRlL"
      },
      "source": [
        "Iremos aumentar o limite de chamadas recursivas da linguagem, a fim de evitar problemas com a parada da execução por conta desse fator.\n"
      ]
    },
    {
      "cell_type": "code",
      "execution_count": null,
      "metadata": {
        "colab": {
          "base_uri": "https://localhost:8080/"
        },
        "id": "6CHnHMuWjXZX",
        "outputId": "299248da-9c4c-4927-c22a-ddd982b3ac9f"
      },
      "outputs": [
        {
          "metadata": {
            "tags": null
          },
          "name": "stdout",
          "output_type": "stream",
          "text": [
            "Input size: 2, execution time: 0.000023 segundos\n",
            "Input size: 4, execution time: 0.000033 segundos\n",
            "Input size: 8, execution time: 0.000066 segundos\n",
            "Input size: 16, execution time: 0.000155 segundos\n",
            "Input size: 32, execution time: 0.000473 segundos\n",
            "Input size: 64, execution time: 0.001970 segundos\n",
            "Input size: 128, execution time: 0.008639 segundos\n",
            "Input size: 256, execution time: 0.027717 segundos\n",
            "Input size: 512, execution time: 0.107806 segundos\n",
            "Input size: 1024, execution time: 0.441007 segundos\n",
            "Input size: 2048, execution time: 1.961805 segundos\n",
            "Input size: 4096, execution time: 5.254186 segundos\n",
            "Input size: 8192, execution time: 69.997123 segundos\n"
          ]
        }
      ],
      "source": [
        "    sys.setrecursionlimit(10000000)\n",
        "\n",
        "    fle_sizes, fle_times = teste_alg(fleury, 100)"
      ]
    },
    {
      "cell_type": "markdown",
      "source": [
        "- `fle_sizes, fle_times:` lista de entradas e de tempos de execução respectivamente.\n",
        "\n",
        "Assim, teremos uma relação entre tamanho de entradas e tempo de execução como no exemplo a seguir:\n",
        "\n",
        "```\n",
        "Input size: 2, execution time: 0.000047 segundos\n",
        "Input size: 4, execution time: 0.000035 segundos\n",
        "Input size: 8, execution time: 0.000063 segundos\n",
        "Input size: 16, execution time: 0.000157 segundos\n",
        "Input size: 32, execution time: 0.000478 segundos\n",
        "Input size: 64, execution time: 0.001807 segundos\n",
        "Input size: 128, execution time: 0.003791 segundos\n",
        "Input size: 256, execution time: 0.013986 segundos\n",
        "Input size: 512, execution time: 0.054191 segundos\n",
        "Input size: 1024, execution time: 0.234888 segundos\n",
        "Input size: 2048, execution time: 1.082525 segundos\n",
        "Input size: 4096, execution time: 4.573834 segundos\n",
        "Input size: 8192, execution time: 66.721341 segundos\n",
        "```"
      ],
      "metadata": {
        "id": "tzH20d_eoYv9"
      }
    },
    {
      "cell_type": "markdown",
      "source": [
        "---\n",
        "### Algoritmo de Hierholzer"
      ],
      "metadata": {
        "id": "p2hOtI4OoHy9"
      }
    },
    {
      "cell_type": "code",
      "execution_count": null,
      "metadata": {
        "id": "VK0RYDr_kQbX",
        "colab": {
          "base_uri": "https://localhost:8080/"
        },
        "outputId": "1484bbe8-205e-4282-a4df-0d90e305e50b"
      },
      "outputs": [
        {
          "output_type": "stream",
          "name": "stdout",
          "text": [
            "Input size: 2, execution time: 0.000018 segundos\n",
            "Input size: 4, execution time: 0.000020 segundos\n",
            "Input size: 8, execution time: 0.000077 segundos\n",
            "Input size: 16, execution time: 0.000049 segundos\n",
            "Input size: 32, execution time: 0.000623 segundos\n",
            "Input size: 64, execution time: 0.000146 segundos\n",
            "Input size: 128, execution time: 0.000296 segundos\n",
            "Input size: 256, execution time: 0.000654 segundos\n",
            "Input size: 512, execution time: 0.000994 segundos\n",
            "Input size: 1024, execution time: 0.001608 segundos\n",
            "Input size: 2048, execution time: 0.003279 segundos\n",
            "Input size: 4096, execution time: 0.007731 segundos\n",
            "Input size: 8192, execution time: 0.014864 segundos\n",
            "Input size: 16384, execution time: 0.028354 segundos\n",
            "Input size: 32768, execution time: 0.054856 segundos\n",
            "Input size: 65536, execution time: 0.204615 segundos\n",
            "Input size: 131072, execution time: 0.428417 segundos\n",
            "Input size: 262144, execution time: 0.834484 segundos\n",
            "Input size: 524288, execution time: 0.876345 segundos\n",
            "Input size: 1048576, execution time: 1.837958 segundos\n",
            "Input size: 2097152, execution time: 4.769740 segundos\n",
            "Input size: 4194304, execution time: 8.877011 segundos\n",
            "Input size: 8388608, execution time: 24.998676 segundos\n",
            "Input size: 16777216, execution time: 32.335725 segundos\n"
          ]
        }
      ],
      "source": [
        "    h_sizes, h_times = teste_alg(hierholzer, 100)"
      ]
    },
    {
      "cell_type": "markdown",
      "source": [
        "- `h_sizes, h_times:` lista de entradas e de tempos de execução respectivamente.\n",
        "\n",
        "Assim, teremos uma relação entre tamanho de entradas e tempo de execução como no exemplo a seguir:\n",
        "\n",
        "```\n",
        "Input size: 2, execution time: 0.000017 segundos\n",
        "Input size: 4, execution time: 0.000026 segundos\n",
        "Input size: 8, execution time: 0.000021 segundos\n",
        "Input size: 16, execution time: 0.000035 segundos\n",
        "Input size: 32, execution time: 0.000079 segundos\n",
        "Input size: 64, execution time: 0.000179 segundos\n",
        "Input size: 128, execution time: 0.000268 segundos\n",
        "Input size: 256, execution time: 0.000610 segundos\n",
        "Input size: 512, execution time: 0.003302 segundos\n",
        "Input size: 1024, execution time: 0.002758 segundos\n",
        "Input size: 2048, execution time: 0.009646 segundos\n",
        "Input size: 4096, execution time: 0.011748 segundos\n",
        "Input size: 8192, execution time: 0.023370 segundos\n",
        "Input size: 16384, execution time: 0.052293 segundos\n",
        "Input size: 32768, execution time: 0.125199 segundos\n",
        "Input size: 65536, execution time: 0.234795 segundos\n",
        "Input size: 131072, execution time: 0.450014 segundos\n",
        "Input size: 262144, execution time: 0.470104 segundos\n",
        "Input size: 524288, execution time: 0.935472 segundos\n",
        "Input size: 1048576, execution time: 1.872805 segundos\n",
        "Input size: 2097152, execution time: 5.278626 segundos\n",
        "Input size: 4194304, execution time: 9.265792 segundos\n",
        "Input size: 8388608, execution time: 16.660990 segundos\n",
        "Input size: 16777216, execution time: 34.502066 segundos\n",
        "Input size: 33554432, execution time: 68.361356 segundos\n",
        "```"
      ],
      "metadata": {
        "id": "43bH6lxdonxo"
      }
    },
    {
      "cell_type": "markdown",
      "metadata": {
        "id": "cGpw_jEmvw34"
      },
      "source": [
        "---\n",
        "## Diferença Percentual"
      ]
    },
    {
      "cell_type": "markdown",
      "source": [
        "### Base gráfica\n",
        "\n",
        "\n",
        "Utilizando a função `plot_graph`, iremos gerar o gráficos de entradas por tempos. Os parâmetros são: `input_sizes`, para a lista de entradas; `execution_times`, para a lista de tempos; `name`, para o nome do algoritmo em questão."
      ],
      "metadata": {
        "id": "BSWR0d8DGg9A"
      }
    },
    {
      "cell_type": "code",
      "source": [
        "def plot_graph(input_sizes, execution_times, name):\n",
        "  lx = np.log2(np.array(input_sizes))\n",
        "  ly = np.log2(np.array(execution_times))\n",
        "\n",
        "  # Gráfico de dispersão e linha\n",
        "  plt.scatter(lx, ly, label=\"Data points\")\n",
        "  plt.plot(lx, ly, '-o', label=\"Log-log plot\")  # Conecta os pontos com uma linha\n",
        "  plt.xlabel('log2(Input Sizes)')\n",
        "  plt.ylabel('log2(Execution Times)')\n",
        "  plt.title(f'Log-Log Plot - {name}')\n",
        "  plt.legend()\n",
        "  plt.show()"
      ],
      "metadata": {
        "id": "0NpF_CQtBxjd"
      },
      "execution_count": null,
      "outputs": []
    },
    {
      "cell_type": "markdown",
      "source": [
        "Agora, iremos chamar a função para os repectivos algorimtos."
      ],
      "metadata": {
        "id": "CgEgXGRiHZyc"
      }
    },
    {
      "cell_type": "code",
      "source": [
        "  plot_graph( fle_sizes, fle_times, \"Fleury\")"
      ],
      "metadata": {
        "id": "oMWt3XNkB0mv"
      },
      "execution_count": null,
      "outputs": []
    },
    {
      "cell_type": "code",
      "source": [
        "  plot_graph( h_sizes, h_times, \"Hierholzer\")"
      ],
      "metadata": {
        "id": "z2NmxZyjHfEr"
      },
      "execution_count": null,
      "outputs": []
    },
    {
      "cell_type": "markdown",
      "source": [
        "### Cálculos de diferença relativa - Algoritmo de Fleury\n",
        "\n",
        "#### 1. Grau do Polinômio \\( d \\):\n",
        "\n",
        "$$\n",
        "d = \\frac{\\log(\\frac{66.721341}{4.573834})}{\\log(2)} \\approx 3.87\n",
        "$$\n",
        "\n",
        "#### 2. Constante \\( c \\):\n",
        "\n",
        "$$\n",
        "c = \\frac{4.573834}{4096^{3.87}} \\approx 4.00 \\times 10^{-14}\n",
        "$$\n",
        "\n",
        "#### 3. Previsão para \\( n = 8192 \\):\n",
        "\n",
        "$$\n",
        "T(8192) = 4.00 \\times 10^{-14} \\cdot 8192^{3.87} \\approx 45.31 \\, \\text{segundos}\n",
        "$$\n",
        "\n",
        "#### 4. Diferença Relativa:\n",
        "\n",
        "$$\n",
        "\\text{Diferença} = 100 \\times \\frac{|66.721341 - 45.31|}{45.31} \\approx 47.26\\%\n",
        "$$\n",
        "\n",
        "Conclusão: A diferença entre o tempo medido e o previsto é de **47.26%**.\n",
        "\n",
        "---"
      ],
      "metadata": {
        "id": "DkjvAQaFrrzW"
      }
    },
    {
      "cell_type": "markdown",
      "source": [
        "### Cálculos de diferença relativa - Algoritmo de Hierholzer\n",
        "\n",
        "#### 1. Grau do Polinômio \\( d \\):\n",
        "\n",
        "$$\n",
        "d = \\frac{\\log(\\frac{68.361356}{34.502066})}{\\log(2)} = 0,98649826\n",
        "$$\n",
        "\n",
        "#### 2. Constante \\( c \\):\n",
        "\n",
        "$$\n",
        "c = \\frac{34.502066}{16777216^{0,98649826}} = 0,000002574  = 2,574 \\times 10^{-6}\n",
        "$$\n",
        "\n",
        "#### 3. Previsão para \\( n = 33554432 \\):\n",
        "\n",
        "$$\n",
        "T(33554432) = 2,574 \\times 10^{-6} \\cdot 33554432^{0,98649826 } = 68.351447443 ≈ 68.35 \\text{ segundos}\n",
        "$$\n",
        "\n",
        "#### 4. Diferença Relativa:\n",
        "\n",
        "$$\n",
        "\\text{Diferença} = 100 \\times \\frac{|68.361356 - 68.35|}{68.35} = 0,016614484 \\approx 0,017\\%\n",
        "$$\n",
        "\n",
        "Conclusão: A diferença entre o tempo medido e o previsto é de **0,017%** aproximadamente.\n"
      ],
      "metadata": {
        "id": "hOpqJcWww2JR"
      }
    },
    {
      "cell_type": "markdown",
      "metadata": {
        "id": "KBSfHkHMv9Bt"
      },
      "source": [
        "---\n",
        "## Conclusão"
      ]
    },
    {
      "cell_type": "markdown",
      "source": [
        "#### Grau \\(d\\):\n",
        "- **Fleury**: Com \\(d \\approx 3.87\\), o crescimento do tempo de execução é quase quartico (\\(O(n^4)\\)), tornando-se ineficiente para entradas grandes.\n",
        "- **Hierholzer**: Com \\(d \\approx 0.99\\), o algoritmo cresce de forma quase linear (\\(O(n)\\)), sendo muito mais eficiente.\n",
        "\n",
        "#### Diferença Relativa:\n",
        "- **Fleury**: Diferença de **47.26%** entre o tempo previsto e o medido, sugerindo que o modelo preditivo é impreciso para grandes entradas.\n",
        "- **Hierholzer**: Diferença de apenas **0.017%**, mostrando alta precisão no modelo preditivo.\n",
        "\n",
        "#### Tempos e Tamanhos de Entrada:\n",
        "- **Fleury**: Para \\(n = 8192\\), o tempo foi de **66.72s**, crescendo rapidamente conforme o tamanho aumenta.\n",
        "- **Hierholzer**: Para \\(n = 33554432\\), o tempo foi de **68.36s**, obtendo números que reforçam sua eficiência mesmo para entradas grandes.\n",
        "\n",
        "### Conclusão:\n",
        "Hierholzer, com crescimento linear e previsível, é muito mais eficiente para grandes instâncias, enquanto Fleury, com crescimento quartico, é adequado apenas para grafos pequenos."
      ],
      "metadata": {
        "id": "pO74D33kYUuC"
      }
    }
  ],
  "metadata": {
    "colab": {
      "toc_visible": true,
      "provenance": []
    },
    "kernelspec": {
      "display_name": "Python 3",
      "name": "python3"
    },
    "language_info": {
      "name": "python"
    }
  },
  "nbformat": 4,
  "nbformat_minor": 0
}